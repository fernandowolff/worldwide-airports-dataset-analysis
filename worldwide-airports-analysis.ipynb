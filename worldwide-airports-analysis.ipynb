{
 "cells": [
  {
   "cell_type": "markdown",
   "metadata": {},
   "source": [
    "# Worldwide Airports Dataset Analysis\n",
    "\n",
    "This analysis aims to explore the [Global Aviation Hub: Dataset of Airports Worldwide](https://www.kaggle.com/datasets/harshalhonde/global-aviation-hub-dataset-of-airports-worldwide/data), from Kagle, by Harshal H, for learning purposes only.\n",
    "Here I practice data cleanup, datasets and series manipulation and insights visualization.\n",
    "There are no pre-defined objectives, so, as I explore the data I will dive into whatever I stumble on along the way.\n",
    "\n",
    "Dataset Columns:\n",
    "- **Airport Identifiers**: Unique identifiers and codes for each airport, including ICAO, IATA, and local codes.\n",
    "- **Geographical Coordinates**: Precise latitude and longitude coordinates for accurate mapping and analysis.\n",
    "- **Elevation**: Elevation data in feet for each airport's location.\n",
    "- **Geographical Region**: Information about the continent, country, and region where each airport is situated.\n",
    "- **Municipality**: The city or municipality associated with each airport's location. \n",
    "- **Scheduled Service**: Indicates whether the airport offers scheduled commercial air services.\n",
    "- **Useful Links**: Links to homepages and Wikipedia pages for further information.\n",
    "- **Keywords**: Keywords that provide additional context and categorization for each airport."
   ]
  },
  {
   "cell_type": "markdown",
   "metadata": {},
   "source": [
    "# Importing libraries"
   ]
  },
  {
   "cell_type": "code",
   "execution_count": 1,
   "metadata": {},
   "outputs": [],
   "source": [
    "import pandas as pd\n",
    "import matplotlib.pyplot as plt\n",
    "import seaborn as sns\n",
    "import plotly.express as px\n",
    "import kagglehub"
   ]
  },
  {
   "cell_type": "markdown",
   "metadata": {},
   "source": [
    "# Get the dataset and setup the pandas dataframe"
   ]
  },
  {
   "cell_type": "code",
   "execution_count": 2,
   "metadata": {},
   "outputs": [
    {
     "data": {
      "text/html": [
       "<div>\n",
       "<style scoped>\n",
       "    .dataframe tbody tr th:only-of-type {\n",
       "        vertical-align: middle;\n",
       "    }\n",
       "\n",
       "    .dataframe tbody tr th {\n",
       "        vertical-align: top;\n",
       "    }\n",
       "\n",
       "    .dataframe thead th {\n",
       "        text-align: right;\n",
       "    }\n",
       "</style>\n",
       "<table border=\"1\" class=\"dataframe\">\n",
       "  <thead>\n",
       "    <tr style=\"text-align: right;\">\n",
       "      <th></th>\n",
       "      <th>id</th>\n",
       "      <th>ident</th>\n",
       "      <th>type</th>\n",
       "      <th>name</th>\n",
       "      <th>latitude_deg</th>\n",
       "      <th>longitude_deg</th>\n",
       "      <th>elevation_ft</th>\n",
       "      <th>continent</th>\n",
       "      <th>iso_country</th>\n",
       "      <th>iso_region</th>\n",
       "      <th>municipality</th>\n",
       "      <th>scheduled_service</th>\n",
       "      <th>gps_code</th>\n",
       "      <th>iata_code</th>\n",
       "      <th>local_code</th>\n",
       "      <th>home_link</th>\n",
       "      <th>wikipedia_link</th>\n",
       "      <th>keywords</th>\n",
       "    </tr>\n",
       "  </thead>\n",
       "  <tbody>\n",
       "    <tr>\n",
       "      <th>0</th>\n",
       "      <td>6523</td>\n",
       "      <td>00A</td>\n",
       "      <td>heliport</td>\n",
       "      <td>Total RF Heliport</td>\n",
       "      <td>40.070985</td>\n",
       "      <td>-74.933689</td>\n",
       "      <td>11.0</td>\n",
       "      <td>NaN</td>\n",
       "      <td>US</td>\n",
       "      <td>US-PA</td>\n",
       "      <td>Bensalem</td>\n",
       "      <td>no</td>\n",
       "      <td>K00A</td>\n",
       "      <td>NaN</td>\n",
       "      <td>00A</td>\n",
       "      <td>https://www.penndot.pa.gov/TravelInPA/airports...</td>\n",
       "      <td>NaN</td>\n",
       "      <td>NaN</td>\n",
       "    </tr>\n",
       "    <tr>\n",
       "      <th>1</th>\n",
       "      <td>323361</td>\n",
       "      <td>00AA</td>\n",
       "      <td>small_airport</td>\n",
       "      <td>Aero B Ranch Airport</td>\n",
       "      <td>38.704022</td>\n",
       "      <td>-101.473911</td>\n",
       "      <td>3435.0</td>\n",
       "      <td>NaN</td>\n",
       "      <td>US</td>\n",
       "      <td>US-KS</td>\n",
       "      <td>Leoti</td>\n",
       "      <td>no</td>\n",
       "      <td>00AA</td>\n",
       "      <td>NaN</td>\n",
       "      <td>00AA</td>\n",
       "      <td>NaN</td>\n",
       "      <td>NaN</td>\n",
       "      <td>NaN</td>\n",
       "    </tr>\n",
       "    <tr>\n",
       "      <th>2</th>\n",
       "      <td>6524</td>\n",
       "      <td>00AK</td>\n",
       "      <td>small_airport</td>\n",
       "      <td>Lowell Field</td>\n",
       "      <td>59.947733</td>\n",
       "      <td>-151.692524</td>\n",
       "      <td>450.0</td>\n",
       "      <td>NaN</td>\n",
       "      <td>US</td>\n",
       "      <td>US-AK</td>\n",
       "      <td>Anchor Point</td>\n",
       "      <td>no</td>\n",
       "      <td>00AK</td>\n",
       "      <td>NaN</td>\n",
       "      <td>00AK</td>\n",
       "      <td>NaN</td>\n",
       "      <td>NaN</td>\n",
       "      <td>NaN</td>\n",
       "    </tr>\n",
       "    <tr>\n",
       "      <th>3</th>\n",
       "      <td>6525</td>\n",
       "      <td>00AL</td>\n",
       "      <td>small_airport</td>\n",
       "      <td>Epps Airpark</td>\n",
       "      <td>34.864799</td>\n",
       "      <td>-86.770302</td>\n",
       "      <td>820.0</td>\n",
       "      <td>NaN</td>\n",
       "      <td>US</td>\n",
       "      <td>US-AL</td>\n",
       "      <td>Harvest</td>\n",
       "      <td>no</td>\n",
       "      <td>00AL</td>\n",
       "      <td>NaN</td>\n",
       "      <td>00AL</td>\n",
       "      <td>NaN</td>\n",
       "      <td>NaN</td>\n",
       "      <td>NaN</td>\n",
       "    </tr>\n",
       "    <tr>\n",
       "      <th>4</th>\n",
       "      <td>506791</td>\n",
       "      <td>00AN</td>\n",
       "      <td>small_airport</td>\n",
       "      <td>Katmai Lodge Airport</td>\n",
       "      <td>59.093287</td>\n",
       "      <td>-156.456699</td>\n",
       "      <td>80.0</td>\n",
       "      <td>NaN</td>\n",
       "      <td>US</td>\n",
       "      <td>US-AK</td>\n",
       "      <td>King Salmon</td>\n",
       "      <td>no</td>\n",
       "      <td>00AN</td>\n",
       "      <td>NaN</td>\n",
       "      <td>00AN</td>\n",
       "      <td>NaN</td>\n",
       "      <td>NaN</td>\n",
       "      <td>NaN</td>\n",
       "    </tr>\n",
       "  </tbody>\n",
       "</table>\n",
       "</div>"
      ],
      "text/plain": [
       "       id ident           type                  name  latitude_deg  \\\n",
       "0    6523   00A       heliport     Total RF Heliport     40.070985   \n",
       "1  323361  00AA  small_airport  Aero B Ranch Airport     38.704022   \n",
       "2    6524  00AK  small_airport          Lowell Field     59.947733   \n",
       "3    6525  00AL  small_airport          Epps Airpark     34.864799   \n",
       "4  506791  00AN  small_airport  Katmai Lodge Airport     59.093287   \n",
       "\n",
       "   longitude_deg  elevation_ft continent iso_country iso_region  municipality  \\\n",
       "0     -74.933689          11.0       NaN          US      US-PA      Bensalem   \n",
       "1    -101.473911        3435.0       NaN          US      US-KS         Leoti   \n",
       "2    -151.692524         450.0       NaN          US      US-AK  Anchor Point   \n",
       "3     -86.770302         820.0       NaN          US      US-AL       Harvest   \n",
       "4    -156.456699          80.0       NaN          US      US-AK   King Salmon   \n",
       "\n",
       "  scheduled_service gps_code iata_code local_code  \\\n",
       "0                no     K00A       NaN        00A   \n",
       "1                no     00AA       NaN       00AA   \n",
       "2                no     00AK       NaN       00AK   \n",
       "3                no     00AL       NaN       00AL   \n",
       "4                no     00AN       NaN       00AN   \n",
       "\n",
       "                                           home_link wikipedia_link keywords  \n",
       "0  https://www.penndot.pa.gov/TravelInPA/airports...            NaN      NaN  \n",
       "1                                                NaN            NaN      NaN  \n",
       "2                                                NaN            NaN      NaN  \n",
       "3                                                NaN            NaN      NaN  \n",
       "4                                                NaN            NaN      NaN  "
      ]
     },
     "execution_count": 2,
     "metadata": {},
     "output_type": "execute_result"
    }
   ],
   "source": [
    "# Download latest version, at the time of writing this it is version \"1\".\n",
    "path = kagglehub.dataset_download(\"harshalhonde/global-aviation-hub-dataset-of-airports-worldwide\")\n",
    "\n",
    "df = pd.read_csv(f\"{path}/airports .csv\")\n",
    "df.head()"
   ]
  },
  {
   "cell_type": "markdown",
   "metadata": {},
   "source": [
    "# Cleaning up the dataset"
   ]
  },
  {
   "cell_type": "code",
   "execution_count": 3,
   "metadata": {},
   "outputs": [
    {
     "name": "stdout",
     "output_type": "stream",
     "text": [
      "<class 'pandas.core.frame.DataFrame'>\n",
      "RangeIndex: 76367 entries, 0 to 76366\n",
      "Data columns (total 18 columns):\n",
      " #   Column             Non-Null Count  Dtype  \n",
      "---  ------             --------------  -----  \n",
      " 0   id                 76367 non-null  int64  \n",
      " 1   ident              76367 non-null  object \n",
      " 2   type               76367 non-null  object \n",
      " 3   name               76367 non-null  object \n",
      " 4   latitude_deg       76367 non-null  float64\n",
      " 5   longitude_deg      76367 non-null  float64\n",
      " 6   elevation_ft       61969 non-null  float64\n",
      " 7   continent          39372 non-null  object \n",
      " 8   iso_country        76108 non-null  object \n",
      " 9   iso_region         76367 non-null  object \n",
      " 10  municipality       71317 non-null  object \n",
      " 11  scheduled_service  76367 non-null  object \n",
      " 12  gps_code           41345 non-null  object \n",
      " 13  iata_code          8889 non-null   object \n",
      " 14  local_code         32792 non-null  object \n",
      " 15  home_link          3694 non-null   object \n",
      " 16  wikipedia_link     11035 non-null  object \n",
      " 17  keywords           17038 non-null  object \n",
      "dtypes: float64(3), int64(1), object(14)\n",
      "memory usage: 10.5+ MB\n"
     ]
    }
   ],
   "source": [
    "df.info()"
   ]
  },
  {
   "cell_type": "markdown",
   "metadata": {},
   "source": [
    "We can see that all airports have non-null data on important columns like: ident, type, name, latitude, longitude and iso_region.\n",
    "\n",
    "In the other hand not all rows of the iso_country and municipality columns are filled. We will see how those null values are distributed. Maybe on big and developed countries the data is all there for us to explore."
   ]
  },
  {
   "cell_type": "code",
   "execution_count": 4,
   "metadata": {},
   "outputs": [
    {
     "data": {
      "text/plain": [
       "iso_region\n",
       "US-TX     3659\n",
       "US-CA     2331\n",
       "US-FL     1228\n",
       "BR-SP     1218\n",
       "GB-ENG    1126\n",
       "          ... \n",
       "BJ-CO        1\n",
       "SA-11        1\n",
       "SA-06        1\n",
       "BJ-AL        1\n",
       "MN-071       1\n",
       "Name: count, Length: 2891, dtype: int64"
      ]
     },
     "execution_count": 4,
     "metadata": {},
     "output_type": "execute_result"
    }
   ],
   "source": [
    "df.iso_region.value_counts()"
   ]
  },
  {
   "cell_type": "code",
   "execution_count": 5,
   "metadata": {},
   "outputs": [
    {
     "data": {
      "text/plain": [
       "iso_region\n",
       "US-TX     3659\n",
       "US-CA     2331\n",
       "US-FL     1228\n",
       "US-IL     1093\n",
       "US-AK     1047\n",
       "US-PA     1037\n",
       "US-AZ      970\n",
       "US-OH      907\n",
       "US-LA      851\n",
       "US-NY      778\n",
       "US-IN      770\n",
       "US-WA      726\n",
       "US-MO      720\n",
       "US-OK      676\n",
       "US-WI      670\n",
       "US-MI      650\n",
       "US-MN      648\n",
       "US-GA      637\n",
       "US-CO      629\n",
       "US-OR      621\n",
       "US-AR      602\n",
       "US-NC      581\n",
       "US-VA      566\n",
       "US-KS      533\n",
       "US-AL      477\n",
       "US-NJ      464\n",
       "US-NM      440\n",
       "US-ID      439\n",
       "US-MT      421\n",
       "US-TN      415\n",
       "US-UT      409\n",
       "US-IA      409\n",
       "US-NV      405\n",
       "US-MS      355\n",
       "US-NE      344\n",
       "US-ND      335\n",
       "US-KY      321\n",
       "US-MD      291\n",
       "US-MA      271\n",
       "US-ME      267\n",
       "US-SC      261\n",
       "US-SD      231\n",
       "US-NH      208\n",
       "US-WY      207\n",
       "US-CT      167\n",
       "US-WV      148\n",
       "US-HI      122\n",
       "US-VT      120\n",
       "US-DE       60\n",
       "US-RI       43\n",
       "US-DC       20\n",
       "US-U-A       1\n",
       "Name: count, dtype: int64"
      ]
     },
     "execution_count": 5,
     "metadata": {},
     "output_type": "execute_result"
    }
   ],
   "source": [
    "df.query(\"iso_region.str.contains('US-')\").iso_region.value_counts()"
   ]
  },
  {
   "cell_type": "code",
   "execution_count": 6,
   "metadata": {},
   "outputs": [
    {
     "data": {
      "text/plain": [
       "52"
      ]
     },
     "execution_count": 6,
     "metadata": {},
     "output_type": "execute_result"
    }
   ],
   "source": [
    "len(df.query(\"iso_region.str.contains('US-')\").iso_region.unique())"
   ]
  },
  {
   "cell_type": "code",
   "execution_count": 7,
   "metadata": {},
   "outputs": [
    {
     "data": {
      "text/plain": [
       "iso_region\n",
       "BR-SP     1218\n",
       "BR-MT     1067\n",
       "BR-MS      803\n",
       "BR-MG      515\n",
       "BR-BA      400\n",
       "BR-PA      381\n",
       "BR-GO      373\n",
       "BR-RJ      276\n",
       "BR-RS      205\n",
       "BR-PR      203\n",
       "BR-TO      167\n",
       "BR-MA      165\n",
       "BR-SC      153\n",
       "BR-RR      135\n",
       "BR-CE      130\n",
       "BR-AM      113\n",
       "BR-PI      104\n",
       "BR-RO       95\n",
       "BR-PE       92\n",
       "BR-DF       40\n",
       "BR-ES       39\n",
       "BR-RN       39\n",
       "BR-AL       34\n",
       "BR-PB       29\n",
       "BR-AC       28\n",
       "BR-AP       26\n",
       "BR-SE        9\n",
       "BR-U-A       5\n",
       "Name: count, dtype: int64"
      ]
     },
     "execution_count": 7,
     "metadata": {},
     "output_type": "execute_result"
    }
   ],
   "source": [
    "df.query(\"iso_region.str.contains('BR-')\").iso_region.value_counts()"
   ]
  },
  {
   "cell_type": "code",
   "execution_count": 8,
   "metadata": {},
   "outputs": [
    {
     "data": {
      "text/plain": [
       "28"
      ]
     },
     "execution_count": 8,
     "metadata": {},
     "output_type": "execute_result"
    }
   ],
   "source": [
    "len(df.query(\"iso_region.str.contains('BR-')\").iso_region.unique())"
   ]
  },
  {
   "cell_type": "markdown",
   "metadata": {},
   "source": [
    "We can see from the US and BR examples above that the region column is formed by the name of the iso code of the country followed by the iso code of its states.\n",
    "Considering all region rows are filled, we be able to use that to make the country column complete."
   ]
  },
  {
   "cell_type": "code",
   "execution_count": 9,
   "metadata": {},
   "outputs": [
    {
     "data": {
      "text/html": [
       "<div>\n",
       "<style scoped>\n",
       "    .dataframe tbody tr th:only-of-type {\n",
       "        vertical-align: middle;\n",
       "    }\n",
       "\n",
       "    .dataframe tbody tr th {\n",
       "        vertical-align: top;\n",
       "    }\n",
       "\n",
       "    .dataframe thead th {\n",
       "        text-align: right;\n",
       "    }\n",
       "</style>\n",
       "<table border=\"1\" class=\"dataframe\">\n",
       "  <thead>\n",
       "    <tr style=\"text-align: right;\">\n",
       "      <th></th>\n",
       "      <th>id</th>\n",
       "      <th>ident</th>\n",
       "      <th>type</th>\n",
       "      <th>name</th>\n",
       "      <th>latitude_deg</th>\n",
       "      <th>longitude_deg</th>\n",
       "      <th>elevation_ft</th>\n",
       "      <th>continent</th>\n",
       "      <th>iso_country</th>\n",
       "      <th>iso_region</th>\n",
       "      <th>municipality</th>\n",
       "      <th>scheduled_service</th>\n",
       "      <th>gps_code</th>\n",
       "      <th>iata_code</th>\n",
       "      <th>local_code</th>\n",
       "      <th>home_link</th>\n",
       "      <th>wikipedia_link</th>\n",
       "      <th>keywords</th>\n",
       "    </tr>\n",
       "  </thead>\n",
       "  <tbody>\n",
       "    <tr>\n",
       "      <th>25749</th>\n",
       "      <td>315385</td>\n",
       "      <td>FYAA</td>\n",
       "      <td>small_airport</td>\n",
       "      <td>Ai-Ais Airport</td>\n",
       "      <td>-27.995000</td>\n",
       "      <td>17.596600</td>\n",
       "      <td>2000.0</td>\n",
       "      <td>AF</td>\n",
       "      <td>NaN</td>\n",
       "      <td>NA-KA</td>\n",
       "      <td>Ai-Ais</td>\n",
       "      <td>no</td>\n",
       "      <td>FYAA</td>\n",
       "      <td>AIW</td>\n",
       "      <td>NaN</td>\n",
       "      <td>NaN</td>\n",
       "      <td>NaN</td>\n",
       "      <td>NaN</td>\n",
       "    </tr>\n",
       "    <tr>\n",
       "      <th>25750</th>\n",
       "      <td>29539</td>\n",
       "      <td>FYAB</td>\n",
       "      <td>small_airport</td>\n",
       "      <td>Aroab B Airport</td>\n",
       "      <td>-26.776100</td>\n",
       "      <td>19.633101</td>\n",
       "      <td>3235.0</td>\n",
       "      <td>AF</td>\n",
       "      <td>NaN</td>\n",
       "      <td>NA-KA</td>\n",
       "      <td>Aroab</td>\n",
       "      <td>no</td>\n",
       "      <td>FYAB</td>\n",
       "      <td>NaN</td>\n",
       "      <td>NaN</td>\n",
       "      <td>NaN</td>\n",
       "      <td>NaN</td>\n",
       "      <td>NaN</td>\n",
       "    </tr>\n",
       "    <tr>\n",
       "      <th>25751</th>\n",
       "      <td>315405</td>\n",
       "      <td>FYAK</td>\n",
       "      <td>small_airport</td>\n",
       "      <td>Aussenkehr Airport</td>\n",
       "      <td>-28.458700</td>\n",
       "      <td>17.464500</td>\n",
       "      <td>970.0</td>\n",
       "      <td>AF</td>\n",
       "      <td>NaN</td>\n",
       "      <td>NA-KA</td>\n",
       "      <td>Aussenkehr</td>\n",
       "      <td>no</td>\n",
       "      <td>FYAK</td>\n",
       "      <td>NaN</td>\n",
       "      <td>NaN</td>\n",
       "      <td>NaN</td>\n",
       "      <td>NaN</td>\n",
       "      <td>NaN</td>\n",
       "    </tr>\n",
       "    <tr>\n",
       "      <th>25752</th>\n",
       "      <td>29534</td>\n",
       "      <td>FYAM</td>\n",
       "      <td>small_airport</td>\n",
       "      <td>Aminuis Airstrip</td>\n",
       "      <td>-23.655800</td>\n",
       "      <td>19.351700</td>\n",
       "      <td>4012.0</td>\n",
       "      <td>AF</td>\n",
       "      <td>NaN</td>\n",
       "      <td>NA-OH</td>\n",
       "      <td>Aminuis</td>\n",
       "      <td>no</td>\n",
       "      <td>FYAM</td>\n",
       "      <td>NaN</td>\n",
       "      <td>NaN</td>\n",
       "      <td>NaN</td>\n",
       "      <td>NaN</td>\n",
       "      <td>NaN</td>\n",
       "    </tr>\n",
       "    <tr>\n",
       "      <th>25753</th>\n",
       "      <td>3024</td>\n",
       "      <td>FYAR</td>\n",
       "      <td>medium_airport</td>\n",
       "      <td>Arandis Airport</td>\n",
       "      <td>-22.461875</td>\n",
       "      <td>14.979322</td>\n",
       "      <td>1905.0</td>\n",
       "      <td>AF</td>\n",
       "      <td>NaN</td>\n",
       "      <td>NA-ER</td>\n",
       "      <td>Arandis</td>\n",
       "      <td>no</td>\n",
       "      <td>FYAR</td>\n",
       "      <td>ADI</td>\n",
       "      <td>NaN</td>\n",
       "      <td>NaN</td>\n",
       "      <td>https://en.wikipedia.org/wiki/Arandis_Airport</td>\n",
       "      <td>NaN</td>\n",
       "    </tr>\n",
       "    <tr>\n",
       "      <th>...</th>\n",
       "      <td>...</td>\n",
       "      <td>...</td>\n",
       "      <td>...</td>\n",
       "      <td>...</td>\n",
       "      <td>...</td>\n",
       "      <td>...</td>\n",
       "      <td>...</td>\n",
       "      <td>...</td>\n",
       "      <td>...</td>\n",
       "      <td>...</td>\n",
       "      <td>...</td>\n",
       "      <td>...</td>\n",
       "      <td>...</td>\n",
       "      <td>...</td>\n",
       "      <td>...</td>\n",
       "      <td>...</td>\n",
       "      <td>...</td>\n",
       "      <td>...</td>\n",
       "    </tr>\n",
       "    <tr>\n",
       "      <th>46161</th>\n",
       "      <td>322415</td>\n",
       "      <td>NA-0175</td>\n",
       "      <td>small_airport</td>\n",
       "      <td>Farm Dawib Ost Landing Strip</td>\n",
       "      <td>-21.774528</td>\n",
       "      <td>15.515361</td>\n",
       "      <td>3503.0</td>\n",
       "      <td>AF</td>\n",
       "      <td>NaN</td>\n",
       "      <td>NA-ER</td>\n",
       "      <td>Hohenstein Lodge</td>\n",
       "      <td>no</td>\n",
       "      <td>NaN</td>\n",
       "      <td>NaN</td>\n",
       "      <td>NaN</td>\n",
       "      <td>NaN</td>\n",
       "      <td>NaN</td>\n",
       "      <td>NaN</td>\n",
       "    </tr>\n",
       "    <tr>\n",
       "      <th>46162</th>\n",
       "      <td>322416</td>\n",
       "      <td>NA-0176</td>\n",
       "      <td>small_airport</td>\n",
       "      <td>Farm Gurus Landing Strip</td>\n",
       "      <td>-24.076750</td>\n",
       "      <td>17.610417</td>\n",
       "      <td>4061.0</td>\n",
       "      <td>AF</td>\n",
       "      <td>NaN</td>\n",
       "      <td>NA-HA</td>\n",
       "      <td>Kalkrand</td>\n",
       "      <td>no</td>\n",
       "      <td>NaN</td>\n",
       "      <td>NaN</td>\n",
       "      <td>NaN</td>\n",
       "      <td>NaN</td>\n",
       "      <td>NaN</td>\n",
       "      <td>NaN</td>\n",
       "    </tr>\n",
       "    <tr>\n",
       "      <th>46163</th>\n",
       "      <td>345911</td>\n",
       "      <td>NA-0177</td>\n",
       "      <td>small_airport</td>\n",
       "      <td>Desert Rhino Camp Airstrip</td>\n",
       "      <td>-20.036661</td>\n",
       "      <td>13.844147</td>\n",
       "      <td>NaN</td>\n",
       "      <td>AF</td>\n",
       "      <td>NaN</td>\n",
       "      <td>NA-KU</td>\n",
       "      <td>NaN</td>\n",
       "      <td>no</td>\n",
       "      <td>NaN</td>\n",
       "      <td>NaN</td>\n",
       "      <td>NaN</td>\n",
       "      <td>NaN</td>\n",
       "      <td>NaN</td>\n",
       "      <td>NaN</td>\n",
       "    </tr>\n",
       "    <tr>\n",
       "      <th>46164</th>\n",
       "      <td>351688</td>\n",
       "      <td>NA-0178</td>\n",
       "      <td>small_airport</td>\n",
       "      <td>Namushasha River Lodge Airport</td>\n",
       "      <td>-17.983840</td>\n",
       "      <td>23.309320</td>\n",
       "      <td>3161.0</td>\n",
       "      <td>AF</td>\n",
       "      <td>NaN</td>\n",
       "      <td>NA-CA</td>\n",
       "      <td>Ngonga</td>\n",
       "      <td>no</td>\n",
       "      <td>NaN</td>\n",
       "      <td>NaN</td>\n",
       "      <td>NaN</td>\n",
       "      <td>NaN</td>\n",
       "      <td>NaN</td>\n",
       "      <td>NaN</td>\n",
       "    </tr>\n",
       "    <tr>\n",
       "      <th>46165</th>\n",
       "      <td>353241</td>\n",
       "      <td>NA-0179</td>\n",
       "      <td>small_airport</td>\n",
       "      <td>Skuit Drift Airport</td>\n",
       "      <td>-28.376640</td>\n",
       "      <td>19.779240</td>\n",
       "      <td>3150.0</td>\n",
       "      <td>AF</td>\n",
       "      <td>NaN</td>\n",
       "      <td>NA-KA</td>\n",
       "      <td>Skuit Drift</td>\n",
       "      <td>no</td>\n",
       "      <td>NaN</td>\n",
       "      <td>NaN</td>\n",
       "      <td>NaN</td>\n",
       "      <td>NaN</td>\n",
       "      <td>NaN</td>\n",
       "      <td>NaN</td>\n",
       "    </tr>\n",
       "  </tbody>\n",
       "</table>\n",
       "<p>259 rows × 18 columns</p>\n",
       "</div>"
      ],
      "text/plain": [
       "           id    ident            type                            name  \\\n",
       "25749  315385     FYAA   small_airport                  Ai-Ais Airport   \n",
       "25750   29539     FYAB   small_airport                 Aroab B Airport   \n",
       "25751  315405     FYAK   small_airport              Aussenkehr Airport   \n",
       "25752   29534     FYAM   small_airport                Aminuis Airstrip   \n",
       "25753    3024     FYAR  medium_airport                 Arandis Airport   \n",
       "...       ...      ...             ...                             ...   \n",
       "46161  322415  NA-0175   small_airport    Farm Dawib Ost Landing Strip   \n",
       "46162  322416  NA-0176   small_airport        Farm Gurus Landing Strip   \n",
       "46163  345911  NA-0177   small_airport      Desert Rhino Camp Airstrip   \n",
       "46164  351688  NA-0178   small_airport  Namushasha River Lodge Airport   \n",
       "46165  353241  NA-0179   small_airport             Skuit Drift Airport   \n",
       "\n",
       "       latitude_deg  longitude_deg  elevation_ft continent iso_country  \\\n",
       "25749    -27.995000      17.596600        2000.0        AF         NaN   \n",
       "25750    -26.776100      19.633101        3235.0        AF         NaN   \n",
       "25751    -28.458700      17.464500         970.0        AF         NaN   \n",
       "25752    -23.655800      19.351700        4012.0        AF         NaN   \n",
       "25753    -22.461875      14.979322        1905.0        AF         NaN   \n",
       "...             ...            ...           ...       ...         ...   \n",
       "46161    -21.774528      15.515361        3503.0        AF         NaN   \n",
       "46162    -24.076750      17.610417        4061.0        AF         NaN   \n",
       "46163    -20.036661      13.844147           NaN        AF         NaN   \n",
       "46164    -17.983840      23.309320        3161.0        AF         NaN   \n",
       "46165    -28.376640      19.779240        3150.0        AF         NaN   \n",
       "\n",
       "      iso_region      municipality scheduled_service gps_code iata_code  \\\n",
       "25749      NA-KA            Ai-Ais                no     FYAA       AIW   \n",
       "25750      NA-KA             Aroab                no     FYAB       NaN   \n",
       "25751      NA-KA        Aussenkehr                no     FYAK       NaN   \n",
       "25752      NA-OH           Aminuis                no     FYAM       NaN   \n",
       "25753      NA-ER           Arandis                no     FYAR       ADI   \n",
       "...          ...               ...               ...      ...       ...   \n",
       "46161      NA-ER  Hohenstein Lodge                no      NaN       NaN   \n",
       "46162      NA-HA          Kalkrand                no      NaN       NaN   \n",
       "46163      NA-KU               NaN                no      NaN       NaN   \n",
       "46164      NA-CA            Ngonga                no      NaN       NaN   \n",
       "46165      NA-KA       Skuit Drift                no      NaN       NaN   \n",
       "\n",
       "      local_code home_link                                 wikipedia_link  \\\n",
       "25749        NaN       NaN                                            NaN   \n",
       "25750        NaN       NaN                                            NaN   \n",
       "25751        NaN       NaN                                            NaN   \n",
       "25752        NaN       NaN                                            NaN   \n",
       "25753        NaN       NaN  https://en.wikipedia.org/wiki/Arandis_Airport   \n",
       "...          ...       ...                                            ...   \n",
       "46161        NaN       NaN                                            NaN   \n",
       "46162        NaN       NaN                                            NaN   \n",
       "46163        NaN       NaN                                            NaN   \n",
       "46164        NaN       NaN                                            NaN   \n",
       "46165        NaN       NaN                                            NaN   \n",
       "\n",
       "      keywords  \n",
       "25749      NaN  \n",
       "25750      NaN  \n",
       "25751      NaN  \n",
       "25752      NaN  \n",
       "25753      NaN  \n",
       "...        ...  \n",
       "46161      NaN  \n",
       "46162      NaN  \n",
       "46163      NaN  \n",
       "46164      NaN  \n",
       "46165      NaN  \n",
       "\n",
       "[259 rows x 18 columns]"
      ]
     },
     "execution_count": 9,
     "metadata": {},
     "output_type": "execute_result"
    }
   ],
   "source": [
    "df[df['iso_country'].isna()]"
   ]
  },
  {
   "cell_type": "markdown",
   "metadata": {},
   "source": [
    "We can extract the country codes from the region like:"
   ]
  },
  {
   "cell_type": "code",
   "execution_count": 10,
   "metadata": {},
   "outputs": [
    {
     "data": {
      "text/plain": [
       "25749    NA\n",
       "25750    NA\n",
       "25751    NA\n",
       "25752    NA\n",
       "25753    NA\n",
       "         ..\n",
       "46161    NA\n",
       "46162    NA\n",
       "46163    NA\n",
       "46164    NA\n",
       "46165    NA\n",
       "Name: iso_region, Length: 259, dtype: object"
      ]
     },
     "execution_count": 10,
     "metadata": {},
     "output_type": "execute_result"
    }
   ],
   "source": [
    "df[df['iso_country'].isna()]['iso_region'].str[:2]"
   ]
  },
  {
   "cell_type": "markdown",
   "metadata": {},
   "source": [
    "Seems all values are \"NA\", from Namibia..."
   ]
  },
  {
   "cell_type": "code",
   "execution_count": 11,
   "metadata": {},
   "outputs": [
    {
     "data": {
      "text/plain": [
       "array(['NA'], dtype=object)"
      ]
     },
     "execution_count": 11,
     "metadata": {},
     "output_type": "execute_result"
    }
   ],
   "source": [
    "df[df['iso_country'].isna()]['iso_region'].str[:2].unique()"
   ]
  },
  {
   "cell_type": "markdown",
   "metadata": {},
   "source": [
    "Considering Namibia is a very big country, let's consider all the 259 rows with NaN country are from there."
   ]
  },
  {
   "cell_type": "code",
   "execution_count": 12,
   "metadata": {},
   "outputs": [],
   "source": [
    "df.loc[df['iso_country'].isna(), 'iso_country'] = df.loc[df['iso_country'].isna(), 'iso_region'].str[:2]"
   ]
  },
  {
   "cell_type": "markdown",
   "metadata": {},
   "source": [
    "Namibia country codes are correctly set now"
   ]
  },
  {
   "cell_type": "code",
   "execution_count": 13,
   "metadata": {},
   "outputs": [
    {
     "data": {
      "text/html": [
       "<div>\n",
       "<style scoped>\n",
       "    .dataframe tbody tr th:only-of-type {\n",
       "        vertical-align: middle;\n",
       "    }\n",
       "\n",
       "    .dataframe tbody tr th {\n",
       "        vertical-align: top;\n",
       "    }\n",
       "\n",
       "    .dataframe thead th {\n",
       "        text-align: right;\n",
       "    }\n",
       "</style>\n",
       "<table border=\"1\" class=\"dataframe\">\n",
       "  <thead>\n",
       "    <tr style=\"text-align: right;\">\n",
       "      <th></th>\n",
       "      <th>id</th>\n",
       "      <th>ident</th>\n",
       "      <th>type</th>\n",
       "      <th>name</th>\n",
       "      <th>latitude_deg</th>\n",
       "      <th>longitude_deg</th>\n",
       "      <th>elevation_ft</th>\n",
       "      <th>continent</th>\n",
       "      <th>iso_country</th>\n",
       "      <th>iso_region</th>\n",
       "      <th>municipality</th>\n",
       "      <th>scheduled_service</th>\n",
       "      <th>gps_code</th>\n",
       "      <th>iata_code</th>\n",
       "      <th>local_code</th>\n",
       "      <th>home_link</th>\n",
       "      <th>wikipedia_link</th>\n",
       "      <th>keywords</th>\n",
       "    </tr>\n",
       "  </thead>\n",
       "  <tbody>\n",
       "  </tbody>\n",
       "</table>\n",
       "</div>"
      ],
      "text/plain": [
       "Empty DataFrame\n",
       "Columns: [id, ident, type, name, latitude_deg, longitude_deg, elevation_ft, continent, iso_country, iso_region, municipality, scheduled_service, gps_code, iata_code, local_code, home_link, wikipedia_link, keywords]\n",
       "Index: []"
      ]
     },
     "execution_count": 13,
     "metadata": {},
     "output_type": "execute_result"
    }
   ],
   "source": [
    "df[df['iso_country'].isna()]"
   ]
  },
  {
   "cell_type": "code",
   "execution_count": 14,
   "metadata": {},
   "outputs": [
    {
     "name": "stdout",
     "output_type": "stream",
     "text": [
      "<class 'pandas.core.frame.DataFrame'>\n",
      "RangeIndex: 76367 entries, 0 to 76366\n",
      "Data columns (total 18 columns):\n",
      " #   Column             Non-Null Count  Dtype  \n",
      "---  ------             --------------  -----  \n",
      " 0   id                 76367 non-null  int64  \n",
      " 1   ident              76367 non-null  object \n",
      " 2   type               76367 non-null  object \n",
      " 3   name               76367 non-null  object \n",
      " 4   latitude_deg       76367 non-null  float64\n",
      " 5   longitude_deg      76367 non-null  float64\n",
      " 6   elevation_ft       61969 non-null  float64\n",
      " 7   continent          39372 non-null  object \n",
      " 8   iso_country        76367 non-null  object \n",
      " 9   iso_region         76367 non-null  object \n",
      " 10  municipality       71317 non-null  object \n",
      " 11  scheduled_service  76367 non-null  object \n",
      " 12  gps_code           41345 non-null  object \n",
      " 13  iata_code          8889 non-null   object \n",
      " 14  local_code         32792 non-null  object \n",
      " 15  home_link          3694 non-null   object \n",
      " 16  wikipedia_link     11035 non-null  object \n",
      " 17  keywords           17038 non-null  object \n",
      "dtypes: float64(3), int64(1), object(14)\n",
      "memory usage: 10.5+ MB\n"
     ]
    }
   ],
   "source": [
    "df.info()"
   ]
  },
  {
   "cell_type": "markdown",
   "metadata": {},
   "source": [
    "Let's check the continent column now, see if we can do something about it in an easy way..."
   ]
  },
  {
   "cell_type": "code",
   "execution_count": 15,
   "metadata": {},
   "outputs": [
    {
     "data": {
      "text/plain": [
       "array(['US', 'PR', 'AG', 'AI', 'MX', 'AW', 'GL', 'GB', 'BM', 'BQ', 'BS',\n",
       "       'BZ', 'CA', 'CO', 'CR', 'CU', 'PA', 'DO', 'GT', 'GP', 'HN', 'HT',\n",
       "       'JM', 'KN', 'KY', 'PM', 'TC', 'GD', 'NI', 'MQ', 'SV', 'MF', 'VI',\n",
       "       'VE', 'BB', 'DM', 'BL', 'LC', 'CW', 'SX', 'VG', 'MS', 'TT', 'VC'],\n",
       "      dtype=object)"
      ]
     },
     "execution_count": 15,
     "metadata": {},
     "output_type": "execute_result"
    }
   ],
   "source": [
    "df[df['continent'].isna()].iso_country.unique()"
   ]
  },
  {
   "cell_type": "markdown",
   "metadata": {},
   "source": [
    "44 countries with non set continent value. Laborous but doable...\n",
    "\n",
    "Let's start by checking how existing continent values are set."
   ]
  },
  {
   "cell_type": "code",
   "execution_count": 16,
   "metadata": {},
   "outputs": [
    {
     "data": {
      "text/plain": [
       "array([nan, 'OC', 'AF', 'AN', 'EU', 'AS', 'SA'], dtype=object)"
      ]
     },
     "execution_count": 16,
     "metadata": {},
     "output_type": "execute_result"
    }
   ],
   "source": [
    "df.continent.unique()"
   ]
  },
  {
   "cell_type": "markdown",
   "metadata": {},
   "source": [
    "Considering South America is by itself, I would say we are missing NA(North America) and CA(Central America).\n",
    "\n",
    "Now that we know exactly what to insert on Continent values, let's map the countries to their continents."
   ]
  },
  {
   "cell_type": "code",
   "execution_count": 19,
   "metadata": {},
   "outputs": [
    {
     "data": {
      "text/html": [
       "<div>\n",
       "<style scoped>\n",
       "    .dataframe tbody tr th:only-of-type {\n",
       "        vertical-align: middle;\n",
       "    }\n",
       "\n",
       "    .dataframe tbody tr th {\n",
       "        vertical-align: top;\n",
       "    }\n",
       "\n",
       "    .dataframe thead th {\n",
       "        text-align: right;\n",
       "    }\n",
       "</style>\n",
       "<table border=\"1\" class=\"dataframe\">\n",
       "  <thead>\n",
       "    <tr style=\"text-align: right;\">\n",
       "      <th></th>\n",
       "      <th>id</th>\n",
       "      <th>ident</th>\n",
       "      <th>type</th>\n",
       "      <th>name</th>\n",
       "      <th>latitude_deg</th>\n",
       "      <th>longitude_deg</th>\n",
       "      <th>elevation_ft</th>\n",
       "      <th>continent</th>\n",
       "      <th>iso_country</th>\n",
       "      <th>iso_region</th>\n",
       "      <th>municipality</th>\n",
       "      <th>scheduled_service</th>\n",
       "      <th>gps_code</th>\n",
       "      <th>iata_code</th>\n",
       "      <th>local_code</th>\n",
       "      <th>home_link</th>\n",
       "      <th>wikipedia_link</th>\n",
       "      <th>keywords</th>\n",
       "    </tr>\n",
       "  </thead>\n",
       "  <tbody>\n",
       "  </tbody>\n",
       "</table>\n",
       "</div>"
      ],
      "text/plain": [
       "Empty DataFrame\n",
       "Columns: [id, ident, type, name, latitude_deg, longitude_deg, elevation_ft, continent, iso_country, iso_region, municipality, scheduled_service, gps_code, iata_code, local_code, home_link, wikipedia_link, keywords]\n",
       "Index: []"
      ]
     },
     "execution_count": 19,
     "metadata": {},
     "output_type": "execute_result"
    }
   ],
   "source": [
    "country_to_continent = {\n",
    "    \"US\": \"NA\", \"PR\": \"NA\", \"AG\": \"NA\", \"AI\": \"NA\", \"MX\": \"NA\", \"AW\": \"NA\", \"GL\": \"NA\", \"GB\": \"EU\", \"BM\": \"NA\", \"BQ\": \"NA\", \"BS\": \"NA\",\n",
    "    \"BZ\": \"CA\", \"CA\": \"NA\", \"CO\": \"SA\", \"CR\": \"CA\", \"CU\": \"NA\", \"PA\": \"CA\", \"DO\": \"NA\", \"GT\": \"CA\", \"GP\": \"NA\", \"HN\": \"CA\", \"HT\": \"NA\",\n",
    "    \"JM\": \"NA\", \"KN\": \"NA\", \"KY\": \"NA\", \"PM\": \"NA\", \"TC\": \"NA\", \"GD\": \"NA\", \"NI\": \"CA\", \"MQ\": \"NA\", \"SV\": \"CA\", \"MF\": \"NA\", \"VI\": \"NA\",\n",
    "    \"VE\": \"SA\", \"BB\": \"NA\", \"DM\": \"NA\", \"BL\": \"NA\", \"LC\": \"NA\", \"CW\": \"NA\", \"SX\": \"NA\", \"VG\": \"NA\", \"MS\": \"NA\", \"TT\": \"NA\", \"VC\": \"NA\"\n",
    "}\n",
    "\n",
    "df.loc[df['continent'].isna(), 'continent'] = df.loc[df['continent'].isna(), 'iso_country'].map(country_to_continent)\n",
    "\n",
    "df.loc[df['continent'].isna()].head()"
   ]
  },
  {
   "cell_type": "code",
   "execution_count": 20,
   "metadata": {},
   "outputs": [
    {
     "name": "stdout",
     "output_type": "stream",
     "text": [
      "<class 'pandas.core.frame.DataFrame'>\n",
      "RangeIndex: 76367 entries, 0 to 76366\n",
      "Data columns (total 18 columns):\n",
      " #   Column             Non-Null Count  Dtype  \n",
      "---  ------             --------------  -----  \n",
      " 0   id                 76367 non-null  int64  \n",
      " 1   ident              76367 non-null  object \n",
      " 2   type               76367 non-null  object \n",
      " 3   name               76367 non-null  object \n",
      " 4   latitude_deg       76367 non-null  float64\n",
      " 5   longitude_deg      76367 non-null  float64\n",
      " 6   elevation_ft       61969 non-null  float64\n",
      " 7   continent          76367 non-null  object \n",
      " 8   iso_country        76367 non-null  object \n",
      " 9   iso_region         76367 non-null  object \n",
      " 10  municipality       71317 non-null  object \n",
      " 11  scheduled_service  76367 non-null  object \n",
      " 12  gps_code           41345 non-null  object \n",
      " 13  iata_code          8889 non-null   object \n",
      " 14  local_code         32792 non-null  object \n",
      " 15  home_link          3694 non-null   object \n",
      " 16  wikipedia_link     11035 non-null  object \n",
      " 17  keywords           17038 non-null  object \n",
      "dtypes: float64(3), int64(1), object(14)\n",
      "memory usage: 10.5+ MB\n"
     ]
    }
   ],
   "source": [
    "df.info()"
   ]
  },
  {
   "cell_type": "markdown",
   "metadata": {},
   "source": [
    "Considering would be hard and time consuming to fill elevation and municipality missing data, let's call the data cleanup complete for this study."
   ]
  },
  {
   "cell_type": "markdown",
   "metadata": {},
   "source": [
    "# Exploring data"
   ]
  },
  {
   "cell_type": "code",
   "execution_count": null,
   "metadata": {},
   "outputs": [],
   "source": []
  }
 ],
 "metadata": {
  "kernelspec": {
   "display_name": "Python 3.12.2 ('datasciencepython')",
   "language": "python",
   "name": "python3"
  },
  "language_info": {
   "codemirror_mode": {
    "name": "ipython",
    "version": 3
   },
   "file_extension": ".py",
   "mimetype": "text/x-python",
   "name": "python",
   "nbconvert_exporter": "python",
   "pygments_lexer": "ipython3",
   "version": "3.12.2"
  },
  "orig_nbformat": 4,
  "vscode": {
   "interpreter": {
    "hash": "9b67c23b7028d203d4434b36856f617ca53caa989c27dd8fc954fed1f81600ae"
   }
  }
 },
 "nbformat": 4,
 "nbformat_minor": 2
}
